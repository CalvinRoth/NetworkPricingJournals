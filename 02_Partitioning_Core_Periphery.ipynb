{
 "cells": [
  {
   "cell_type": "markdown",
   "metadata": {},
   "source": [
    "## Journal 02 PartitioninG core periphery networks\n",
    "\n",
    "In this journal we beGin investigating how to encode different amounts of information into the core periphery networks that were explored in the last journal. The way can encode inforamtion is to recognize that in the orginal case we knew exactly which class of P,Q, or R that a node was in. So we suppose simply that we don't know eactly what class each node is. For example, we may know if a node is in (P or Q) or in R. \n",
    "\n",
    "This raises some questions worth investigating.\n",
    "\n",
    "1.  we examine if you are given a partition, what this the best performing price vector given this limited information. To be exact we calculate a price vector of this limited information then calculate the profit on the true graph. ✅\n",
    "\n",
    "2. can you quantify the lose you face from knowing not the full n class graph but a limited infomation with K classes? \n",
    "\n",
    "3. If you are free to pick the partition is there a good strategy you should use? \n",
    "\n",
    "4. Or can you quantify the worst case, i.e. if you are Given any partition what is the worst case situation. "
   ]
  },
  {
   "cell_type": "markdown",
   "metadata": {},
   "source": []
  },
  {
   "cell_type": "markdown",
   "metadata": {},
   "source": [
    "\n",
    "$\\begin{align}\n",
    "    &max_{p} (p -c1)^T B ( a1 - p) \\\\\n",
    "    p_i = p_a &\\text{if } i \\in C_1 \\\\\n",
    "    p_i = p_b &\\text{if } \\in C_2\n",
    "\\end{align}$\n",
    "\n",
    "Alternatively, if we let $e_i = \\begin{cases} 1 & i \\in P \\lor Q \\\\ 0 & else \\end{cases}$ and $d_i = \\begin{cases} 1 & i \\in R \\\\ 0 & else \\end{cases}$\n",
    "\n",
    "Then we can write the problem as \n",
    "\\begin{align}\n",
    "    max_{p_a, p_b} (p_a e + p_b d - c1)^T B (a1 - p_a e - p_b d) \n",
    "\\end{align}\n",
    "\n",
    "Where $B = (I - 2 \\frac{\\rho}{\\|G + G\\|})^{-1}$ for brevity.\n",
    "\n",
    "Taking the gradients of $p_1, p_2$ we have \n",
    "$\\nabla p_1 = \\frac{1}{2} \\left( ae^T B 1 - 2 p_1 e^T B e - p_2 e^T B d - p_2 d^T B e + c 1^T B e \\right) $\n",
    "and \n",
    "$\\nabla p_2 = \\frac{1}{2} \\left( -p_1 e^T B d + ad^T B 1 - p_1 d^T B e - 2 p_2 d^T B d + c 1^T B d \\right)$\n",
    "\n",
    "\n",
    "This yields \n",
    "$\\begin{bmatrix}\n",
    "e^T B e & \\frac{1}{2} ( e^T B d + d^T B e) \\\\ \\frac{1}{2}(d^t B e + e^T B d) & d^t B d \n",
    "\\end{bmatrix} \\begin{bmatrix} p_1 \\\\ p_2 \\end{bmatrix} = \\begin{bmatrix} \\frac{1}{2}\\left( ae^T B 1 + c 1^T B e\\right)  \\\\ \\frac{1}{2} \\left( ad^t B1 + c1^T B d \\right) \\end{bmatrix}$\n",
    "Call the matrix $C_{1}$ and the rhs $b_1 $\n",
    "\n",
    "Note that these inner products are not entirely unknown from our previous work. \n",
    "Specifically $(I - 2 \\rho G)^{-1} * 1$ is a value we have already reserved. To calculate $B * e$ it is the weighted sum of walks that end in either P or Q and $e.T B e $ is the sum of all of the these walks starting at P or Q.\n",
    "\n",
    "We can repeat this game for 3 systems and we get that the optimal prices are\n",
    "$$\n",
    "\\begin{bmatrix}\n",
    "2 e'^T B e' & (e'^T B f' + f'^T B e') & (e'^T B g' + g'^T B e') \\\\ \n",
    "(e'^T B f' + f'^T B e' ) & 2 f'^T B f' & (f'^T B g' + g'^T B f') \\\\\n",
    "(e'^T B g' + g'^T B e) & f'^T B g' + g'^T B f' & 2 g'^T B g' \n",
    "\\end{bmatrix} \\begin{bmatrix}\n",
    "p \\\\ q \\\\ r \n",
    "\\end{bmatrix} = \\begin{bmatrix}\n",
    "a e'^T B 1 + c1^T B e' \\\\\n",
    "a f'^T B 1 + c1^T B f' \\\\\n",
    "a g'^T B 1 + c1^T B g' \\\\\n",
    "\\end{bmatrix}\n",
    "$$\n",
    "Where e', f', g' are a partition into three parts. Call this matrix $C_0$ and the rhs $b_0$.\n",
    "\n",
    "An interesting observation is that $C_0, b_0$ and $C_1, b_1$ are related in  a natural way. \n",
    "\n",
    "We have that $\\begin{bmatrix} 1 & 1 & 0 \\\\ 0 & 0 & 1 \\end{bmatrix} C_0 \\begin{bmatrix} 1 & 0 \\\\ 1 & 0 \\\\ 0 & 1 \\end{bmatrix} = C_1$ and $ \\begin{bmatrix} 1 & 1  & 0 \\\\ 0 & 0 & 1 \\end{bmatrix} b_0 = b_1 $\n",
    "The matrices we multiply by are just saying compress P and Q into one part. Likewise for fullness it makes four components (P or Q) to (P or Q), (P or Q) to R, R to (P or Q), and R to R(this last component is unchanged.  \n",
    "\n",
    "This probably holds in general? And seems like a good approach to analyze how more information -> more dimensions leads to better solutions. \n",
    "\n",
    "Below we provide code to verify this in one case.\n",
    "\n",
    "## Full information verification "
   ]
  },
  {
   "cell_type": "code",
   "execution_count": 23,
   "metadata": {},
   "outputs": [],
   "source": [
    "import networkx as nx\n",
    "import numpy as np\n",
    "from numpy.linalg import inv, cond,norm\n",
    "import numpy.linalg as lin \n",
    "from scipy.linalg import svdvals \n",
    "import helperfunctions.util\n"
   ]
  },
  {
   "cell_type": "markdown",
   "metadata": {},
   "source": [
    "Next we set up constants for the system and the Graph itself"
   ]
  },
  {
   "cell_type": "code",
   "execution_count": 24,
   "metadata": {},
   "outputs": [],
   "source": [
    "a = 6\n",
    "c = 4\n",
    "n = 20\n",
    "G = np.zeros((20,20))\n",
    "G[0,1:5] = 1\n",
    "G[1,0] = G[1,5:8] = 1\n",
    "G[2,3] = G[2,7] = G[2,8] = G[2,9] = 1\n",
    "G[3,2] = G[3,4] = G[3,10] = G[3,11] = 1\n",
    "G[4, 3] = G[4, 5] = G[4,12] = G[4,13] = 1\n",
    "G[5, 4] = G[5,6] = G[5,14] = G[5,15] = 1\n",
    "G[6, 5] = G[6,7] = G[6,16] = G[6,17] = 1\n",
    "G[7,2] = G[7,6] = G[7,18] = G[7,19] = 1 \n",
    "#G[19,7] = G[18,7] = G[17,6] = G[16,6] = 1\n",
    "#G[15,5] = G[14,5] = G[13,4] = G[12,4] = 1\n",
    "#G[11,3] = G[10,3] = G[9, 2] = G[8,2] = 1 \n",
    "#G[19,0] = G[18,1] = G[17,0] = G[16,1] = 1\n",
    "##G[15,0] = G[14,1] = G[13,0] = G[12,1] = 1\n",
    "#G[11,0] = G[10,1] = G[9,0] = G[8,1] = 1\n",
    "rho = 0.95 / norm(G + G.T, ord=2)\n",
    "ones = np.ones((20,))\n",
    "I = np.eye(20,20)\n",
    "B = 0.5 * lin.inv( np.eye(20,20) - 2*rho * G)\n",
    "e = np.zeros((20,1))\n",
    "f = np.zeros((20,1))\n",
    "g = np.zeros((20,1))\n",
    "\n",
    "for i in range(20):\n",
    "    if( i < 2 ):\n",
    "        e[i] = 1\n",
    "    elif(i < 8):\n",
    "        f[i] = 1\n",
    "    else:\n",
    "        g[i] = 1\n"
   ]
  },
  {
   "cell_type": "markdown",
   "metadata": {},
   "source": [
    "Then we set up the 3x3 constraint matrix and vector as described above"
   ]
  },
  {
   "cell_type": "code",
   "execution_count": 25,
   "metadata": {},
   "outputs": [],
   "source": [
    "\n",
    "constraint_mat = np.zeros((3,3))\n",
    "constraint_vec = np.zeros((3,))\n",
    "\n",
    "constraint_mat[0,0] = 2 * e.T @ B @ e \n",
    "constraint_mat[0,1] = e.T @ B @ f + f.T @ B @ e  \n",
    "constraint_mat[0,2] = e.T @ B @ g + g.T @ B @ e\n",
    "constraint_mat[1,0] = f.T @ B @ e  + e.T @ B @ f \n",
    "constraint_mat[1,1] = 2 * f.T @ B @ f\n",
    "constraint_mat[1,2] = f.T @ B @ g + g.T @ B @ f \n",
    "constraint_mat[2,0] = e.T @ B @ g + g.T @  B @ e \n",
    "constraint_mat[2,1] = f.T @ B @ g + g.T @ B @ f\n",
    "constraint_mat[2,2] = 2 * g.T @ B @ g\n",
    "constraint_vec[0,] = a * e.T @ B @ ones + c * ones.T @ B @ e \n",
    "constraint_vec[1,] = a * f.T @ B @ ones + c * ones.T @ B @ f \n",
    "constraint_vec[2,] = a * g.T @ B @ ones + c * ones.T @ B @ g\n"
   ]
  },
  {
   "cell_type": "markdown",
   "metadata": {},
   "source": [
    "And solve for the vector [p,q,r] "
   ]
  },
  {
   "cell_type": "code",
   "execution_count": 26,
   "metadata": {},
   "outputs": [
    {
     "data": {
      "text/plain": [
       "[18.347739645224987, 2.9363984872122684, 0.5507534515916674]"
      ]
     },
     "execution_count": 26,
     "metadata": {},
     "output_type": "execute_result"
    }
   ],
   "source": [
    "[p,q,r] = lin.inv(constraint_mat) @ constraint_vec\n",
    "[p,q,r]"
   ]
  },
  {
   "cell_type": "markdown",
   "metadata": {},
   "source": [
    "An d map it back to a 20 node vector"
   ]
  },
  {
   "cell_type": "code",
   "execution_count": 27,
   "metadata": {},
   "outputs": [],
   "source": [
    "price = np.ones((20,1))\n",
    "for i in range(20):\n",
    "    if(i < 2):\n",
    "        price[i, 0] = p \n",
    "    elif(i < 8):\n",
    "        price[i,0] = q \n",
    "    else:\n",
    "        price[i,0] = r"
   ]
  },
  {
   "cell_type": "markdown",
   "metadata": {},
   "source": [
    "Compute the profits using this price vector"
   ]
  },
  {
   "cell_type": "code",
   "execution_count": 28,
   "metadata": {},
   "outputs": [
    {
     "name": "stdout",
     "output_type": "stream",
     "text": [
      "129.40991805074182\n"
     ]
    },
    {
     "data": {
      "text/plain": [
       "0.17958598531848466"
      ]
     },
     "execution_count": 28,
     "metadata": {},
     "output_type": "execute_result"
    }
   ],
   "source": [
    "profit = 0.5 * (price - c * ones).T @ inv(I - 2*rho * G) @ (a*ones - price)\n",
    "print(profit[0,0])\n",
    "rho"
   ]
  },
  {
   "cell_type": "markdown",
   "metadata": {},
   "source": [
    "Compared to the true optimal profit computed the traditional way"
   ]
  },
  {
   "cell_type": "code",
   "execution_count": 29,
   "metadata": {},
   "outputs": [
    {
     "data": {
      "text/plain": [
       "129.40991805074188"
      ]
     },
     "execution_count": 29,
     "metadata": {},
     "output_type": "execute_result"
    }
   ],
   "source": [
    "true_profit = helperfunctions.util.optProfit(G, rho, a, c)\n",
    "true_profit"
   ]
  },
  {
   "cell_type": "markdown",
   "metadata": {},
   "source": [
    "We are happy to see these are same. \n",
    "\n",
    "## Finding the optimal partitioned prices \n",
    "Now that we have some more confidence this method is valid by observing it is correct at least once to do the second part where we find the optimal price vectors for partitions.  \n",
    "\n",
    "First we set up the partition matrices. We will notate them by what two blocks are together. For example `part_pq` means we are told if a node is in Group R or is in (Group P or Group Q).\n",
    "\n",
    "In code we are forcing nodes from a set of groups to map to certain blocks. But there is no use in considering redundant partions. For example we can send P and Q to block 1 and R to block 2 and there is no benefit considerinH also sendinH R to block 1 and P and Q to block 2. That is we should only consider the ways to partition up to reorderinH of the partition blocks.\n"
   ]
  },
  {
   "cell_type": "code",
   "execution_count": 30,
   "metadata": {},
   "outputs": [
    {
     "name": "stdout",
     "output_type": "stream",
     "text": [
      "Partition matrix for pq\n",
      "[[1 0]\n",
      " [1 0]\n",
      " [0 1]]\n",
      "Partition matrix for pr\n",
      "[[1 0]\n",
      " [0 1]\n",
      " [1 0]]\n",
      "Partition matrix for qr\n",
      "[[1 0]\n",
      " [0 1]\n",
      " [0 1]]\n"
     ]
    }
   ],
   "source": [
    "part_pq = np.array([[1,0],[1,0], [0,1]])\n",
    "part_pr = np.array([[1,0],[0,1], [1,0]])\n",
    "part_qr = np.array([[1,0],[0,1],[0,1]])\n",
    "print(\"Partition matrix for pq\")\n",
    "print(part_pq)\n",
    "print(\"Partition matrix for pr\")\n",
    "print(part_pr)\n",
    "print(\"Partition matrix for qr\")\n",
    "print(part_qr)"
   ]
  },
  {
   "cell_type": "markdown",
   "metadata": {},
   "source": []
  },
  {
   "cell_type": "markdown",
   "metadata": {},
   "source": [
    "For each of these three partitions we compute and solve the new linear system. We will call the 2 element price vectors `v_pq, v_pr, v_qr` using the same notation as above"
   ]
  },
  {
   "cell_type": "code",
   "execution_count": 31,
   "metadata": {},
   "outputs": [],
   "source": [
    "v_pq = inv(part_pq.T @ constraint_mat @ part_pq) @ (part_pq.T @ constraint_vec)\n",
    "v_pr = inv(part_pr.T @ constraint_mat @ part_pr) @ (part_pr.T @ constraint_vec)\n",
    "v_qr = inv(part_qr.T @ constraint_mat @ part_qr) @ (part_qr.T @ constraint_vec)\n"
   ]
  },
  {
   "cell_type": "markdown",
   "metadata": {},
   "source": [
    "And map these prices to the full 20 node system "
   ]
  },
  {
   "cell_type": "code",
   "execution_count": 32,
   "metadata": {},
   "outputs": [],
   "source": [
    "price_pq = np.zeros((20,))\n",
    "price_pr = np.zeros((20,))\n",
    "price_qr = np.zeros((20,))\n",
    "for i in range(20):\n",
    "    if(i < 2):\n",
    "        price_pq[i] = v_pq[0]\n",
    "        price_pr[i] = v_pr[0]\n",
    "        price_qr[i] = v_qr[0]\n",
    "    elif(i < 8):\n",
    "        price_pq[i] = v_pq[0]\n",
    "        price_pr[i] = v_pr[1]\n",
    "        price_qr[i] = v_qr[1] \n",
    "    else:\n",
    "        price_pq[i] = v_pq[1]\n",
    "        price_pr[i] = v_pr[0]\n",
    "        price_qr[i] = v_qr[1]\n"
   ]
  },
  {
   "cell_type": "markdown",
   "metadata": {},
   "source": [
    "Compute the profits"
   ]
  },
  {
   "cell_type": "code",
   "execution_count": 39,
   "metadata": {},
   "outputs": [
    {
     "name": "stdout",
     "output_type": "stream",
     "text": [
      "Profit_pq 53.64776127206805\n",
      "Profit_pr 36.441155376588014\n",
      "Profit_qr 117.93024338508046\n",
      "Compared to the optimal of 129.40991805074188\n"
     ]
    }
   ],
   "source": [
    "profit_pq = helperfunctions.util.computeProfit(G, price_pq, rho, a, c)\n",
    "profit_pr = helperfunctions.util.computeProfit(G, price_pr, rho, a, c)\n",
    "profit_qr = helperfunctions.util.computeProfit(G, price_qr, rho, a, c)\n",
    "print(\"Profit_pq\", profit_pq)\n",
    "print(\"Profit_pr\", profit_pr)\n",
    "print(\"Profit_qr\", profit_qr)\n",
    "print(\"Compared to the optimal of\", true_profit)"
   ]
  },
  {
   "cell_type": "markdown",
   "metadata": {},
   "source": [
    "This is interestinH. This shows that the choice of partion really matters a great deal for picking the profit. Note that if we were to split so that each partition has as close to even size as possible we would pick the pq partition because the two blocks would be of size 8 and 12. Instead the best choice is to pick qr where the block sizes are 2 and 8. Notice that in this case block P is upstream and influences Q directly and R indirectly "
   ]
  },
  {
   "cell_type": "markdown",
   "metadata": {},
   "source": [
    "## Uniform pricing"
   ]
  },
  {
   "cell_type": "markdown",
   "metadata": {},
   "source": [
    "We also observe that this method of reducing the system to smaller dimensions does recover the optimal uniform price of $(a+c)/2$"
   ]
  },
  {
   "cell_type": "code",
   "execution_count": 34,
   "metadata": {},
   "outputs": [
    {
     "data": {
      "text/plain": [
       "4.999999999999999"
      ]
     },
     "execution_count": 34,
     "metadata": {},
     "output_type": "execute_result"
    }
   ],
   "source": [
    "price_uniform = (a+c)/2 * np.ones((20,))\n",
    "part_pqr = np.array([1,1,1]) # just add all the components of constraint_mat and vec each into a scalar\n",
    "(1/(part_pqr @ constraint_mat  @ part_pqr.T)) * (part_pqr @ constraint_vec)"
   ]
  },
  {
   "cell_type": "code",
   "execution_count": 35,
   "metadata": {},
   "outputs": [
    {
     "data": {
      "text/plain": [
       "0.17958598531848466"
      ]
     },
     "execution_count": 35,
     "metadata": {},
     "output_type": "execute_result"
    }
   ],
   "source": [
    "helperfunctions.util.price_vector(a,c, rho, G)\n",
    "rho"
   ]
  },
  {
   "cell_type": "code",
   "execution_count": 45,
   "metadata": {},
   "outputs": [],
   "source": [
    "H = np.zeros((20,20))\n",
    "H[0,1:5] = 1\n",
    "H[1,0] = H[1,5:8] = 1\n",
    "H[2,3] = H[2,7] = H[2,8] = H[2,9] = 1\n",
    "H[3,2] = H[3,4] = H[3,10] = H[3,11] = 1\n",
    "H[4, 3] = H[4, 5] = H[4,12] = H[4,13] = 1\n",
    "H[5, 4] = H[5,6] = H[5,14] = H[5,15] = 1\n",
    "H[6, 5] = H[6,7] = H[6,16] = H[6,17] = 1\n",
    "H[7,2] = H[7,6] = H[7,18] = H[7,19] = 1 \n",
    "H[19,7] = H[18,7] = H[17,6] = H[16,6] = 1\n",
    "H[15,5] = H[14,5] = H[13,4] = H[12,4] = 1\n",
    "H[11,3] = H[10,3] = H[9, 2] = H[8,2] = 1 \n",
    "H[19,0] = H[18,1] = H[17,0] = H[16,1] = 1\n",
    "H[15,0] = H[14,1] = H[13,0] = H[12,1] = 1\n",
    "H[11,0] = H[10,1] = H[9,0] = H[8,1] = 1\n",
    "rho = 0.95 / norm(H + H.T, ord=2)\n",
    "\n",
    "B = 0.5 * lin.inv( np.eye(20,20) - 2*rho * H)\n",
    "constraint_mat = np.zeros((3,3))\n",
    "constraint_vec = np.zeros((3,))\n",
    "\n",
    "constraint_mat[0,0] = 2 * e.T @ B @ e \n",
    "constraint_mat[0,1] = e.T @ B @ f + f.T @ B @ e  \n",
    "constraint_mat[0,2] = e.T @ B @ g + g.T @ B @ e\n",
    "constraint_mat[1,0] = f.T @ B @ e  + e.T @ B @ f \n",
    "constraint_mat[1,1] = 2 * f.T @ B @ f\n",
    "constraint_mat[1,2] = f.T @ B @ g + g.T @ B @ f \n",
    "constraint_mat[2,0] = e.T @ B @ g + g.T @  B @ e \n",
    "constraint_mat[2,1] = f.T @ B @ g + g.T @ B @ f\n",
    "constraint_mat[2,2] = 2 * g.T @ B @ g\n",
    "constraint_vec[0,] = a * e.T @ B @ ones + c * ones.T @ B @ e \n",
    "constraint_vec[1,] = a * f.T @ B @ ones + c * ones.T @ B @ f \n",
    "constraint_vec[2,] = a * g.T @ B @ ones + c * ones.T @ B @ g\n"
   ]
  },
  {
   "cell_type": "markdown",
   "metadata": {},
   "source": [
    "Now the optimal prices are "
   ]
  },
  {
   "cell_type": "code",
   "execution_count": 46,
   "metadata": {},
   "outputs": [],
   "source": [
    "v_pq = inv(part_pq.T @ constraint_mat @ part_pq) @ (part_pq.T @ constraint_vec)\n",
    "v_pr = inv(part_pr.T @ constraint_mat @ part_pr) @ (part_pr.T @ constraint_vec)\n",
    "v_qr = inv(part_qr.T @ constraint_mat @ part_qr) @ (part_qr.T @ constraint_vec)"
   ]
  },
  {
   "cell_type": "markdown",
   "metadata": {},
   "source": [
    "Which leads to profits of: "
   ]
  },
  {
   "cell_type": "code",
   "execution_count": 48,
   "metadata": {},
   "outputs": [
    {
     "name": "stdout",
     "output_type": "stream",
     "text": [
      "Profit_pq 157.2143828281001\n",
      "Profit_pr 163.40591196034893\n",
      "Profit_qr 106.56771460475835\n",
      "Compared to the optimal of 170.9657981411967\n"
     ]
    }
   ],
   "source": [
    "price_pq = np.zeros((20,))\n",
    "price_pr = np.zeros((20,))\n",
    "price_qr = np.zeros((20,))\n",
    "for i in range(20):\n",
    "    if(i < 2):\n",
    "        price_pq[i] = v_pq[0]\n",
    "        price_pr[i] = v_pr[0]\n",
    "        price_qr[i] = v_qr[0]\n",
    "    elif(i < 8):\n",
    "        price_pq[i] = v_pq[0]\n",
    "        price_pr[i] = v_pr[1]\n",
    "        price_qr[i] = v_qr[1] \n",
    "    else:\n",
    "        price_pq[i] = v_pq[1]\n",
    "        price_pr[i] = v_pr[0]\n",
    "        price_qr[i] = v_qr[1]\n",
    "\n",
    "\n",
    "profit_pq = helperfunctions.util.computeProfit(H, price_pq, rho, a, c)\n",
    "profit_pr = helperfunctions.util.computeProfit(H, price_pr, rho, a, c)\n",
    "profit_qr = helperfunctions.util.computeProfit(H, price_qr, rho, a, c)\n",
    "true_profit = helperfunctions.util.optProfit(H, rho, a, c)\n",
    "print(\"Profit_pq\", profit_pq)\n",
    "print(\"Profit_pr\", profit_pr)\n",
    "print(\"Profit_qr\", profit_qr)\n",
    "print(\"Compared to the optimal of\", true_profit)"
   ]
  },
  {
   "cell_type": "markdown",
   "metadata": {},
   "source": [
    "Here the best partition is PR instead of the previous pq. "
   ]
  },
  {
   "cell_type": "code",
   "execution_count": 55,
   "metadata": {},
   "outputs": [
    {
     "data": {
      "text/plain": [
       "array([[7., 7., 5., 5., 5., 5., 5., 5., 1., 1., 1., 1., 1., 1., 1., 1.,\n",
       "        1., 1., 1., 1.]])"
      ]
     },
     "execution_count": 55,
     "metadata": {},
     "output_type": "execute_result"
    }
   ],
   "source": [
    "H @ np.ones((20,))\n",
    "np.ones((1,20)) @ H"
   ]
  },
  {
   "cell_type": "code",
   "execution_count": null,
   "metadata": {},
   "outputs": [],
   "source": []
  }
 ],
 "metadata": {
  "interpreter": {
   "hash": "f8bf12b52825272ca753cd984c5229bfdc42f0a289f2d02e86b988d3513b4f71"
  },
  "kernelspec": {
   "display_name": "Python 3.8.10 64-bit ('pDL': conda)",
   "name": "python3"
  },
  "language_info": {
   "codemirror_mode": {
    "name": "ipython",
    "version": 3
   },
   "file_extension": ".py",
   "mimetype": "text/x-python",
   "name": "python",
   "nbconvert_exporter": "python",
   "pygments_lexer": "ipython3",
   "version": "3.8.10"
  },
  "orig_nbformat": 4
 },
 "nbformat": 4,
 "nbformat_minor": 2
}
