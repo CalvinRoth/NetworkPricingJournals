{
 "cells": [
  {
   "cell_type": "markdown",
   "metadata": {},
   "source": [
    "# Journal 01 Core-Periphy Model\n",
    "\n",
    "This journal introduces the core periphery network and does some analysis of how we can compute the centralities of them in an interesting. This is a method that ought to extend to to general graphs.\n",
    "\n",
    "# Introduction\n",
    "A core periphery network is a generalization of the start network but now we $\\ell$ fully connected nodes.  Furthermore there is another layer of nodes on the periphery. In this journal each core node will have a directed edge to k peripheral nodes. W Peripheral nodes are only connected to 1 core node. e will describe the number of peripheral nodes in terms of how many peripheral nodes are associated with each core node. We will call this ratio the branching factor\n",
    "\n",
    "## Example\n",
    "Below is an example of a core periphery network with a core size of 4 and branching factor from core to periphery of 2. "
   ]
  },
  {
   "cell_type": "code",
   "execution_count": 185,
   "metadata": {},
   "outputs": [
    {
     "data": {
      "image/png": "[encoded data removed]",
      "text/plain": [
       "<Figure size 432x288 with 1 Axes>"
      ]
     },
     "metadata": {},
     "output_type": "display_data"
    }
   ],
   "source": [
    "import networkx as nx\n",
    "import numpy as np\n",
    "import numpy.linalg as lin\n",
    "from __future__ import annotations\n",
    "import matplotlib.pyplot as plt\n",
    "from helperfunctions.util import *\n",
    "from helperfunctions.rational import RationalF as Ratio\n",
    "import itertools    \n",
    "\n",
    "def make_core_periphy(core_size, branching_factor):\n",
    "    n = core_size * (1 + branching_factor)\n",
    "    mat = np.zeros((n,n))\n",
    "    for i in range(core_size):\n",
    "        for j in range(core_size):\n",
    "            if(i == j): continue\n",
    "            mat[i,j] = 1\n",
    "    for i in range(core_size, n):\n",
    "        parent = (i - core_size) // branching_factor \n",
    "        mat[parent, i] = 1\n",
    "    return mat\n",
    "\n",
    "A = make_core_periphy(4, 2)\n",
    "G = nx.from_numpy_matrix(A, create_using=nx.DiGraph)\n",
    "nx.draw_spring(G)"
   ]
  },
  {
   "cell_type": "markdown",
   "metadata": {},
   "source": [
    "## Analysis of centrality \n",
    "Our goal will now be to compute $(I - \\rho (G+G^T))^{-1} 1$ for such a graph. Recall that $(I - \\rho (G+G^T))^{-1} 1 = \\sum_{i=0}^\\infty (\\rho (G+G^T))^i 1$ \n",
    "\n",
    "Consider the following method to take advantage of the symmetry in this situation. Let $C^n $ be the number of walks of length n in G that end in a a core node and $P^n$ the number of walks of length n that end in Peripheral node. \n",
    "\n",
    "For both we have $P^0 = C^0 = 1$ and for $n > 0$ we can get a set of recursive formulas by looking at the connections in $G+G^T$. For example, if a walk of length n ends in a core node then at step n-1 with we were at one of the k associated periheral nodes to the core or if we were in one of the central nodes there are 2 paths we could take because $G + G^T$ restricted to the core to core will be 2 on the off diagonal. \n",
    "\n",
    "So $C^n = 2 C^{n-1} + k P^{n-1}$ \n",
    "Likewise on can derive that $P^n = C^{n-1}$. \n",
    "\n",
    "Our orignal formula $[\\sum_{i=0} (\\rho (G + G^T))^i 1]_j = \\begin{cases} \\sum_{i=0} (\\rho^i) C_n & i \\in Core \\\\ \\sum_{i=0} P_n & i \\not\\in Core \\end{cases}$ as $[G+G^T]^n_i 1$ is exactly how many walks of length n end at vertex i. Using a bit of generatingfunctionology we notice that these terms look like a formal series. Let for a moment $f(\\rho) = \\sum_{i=0} C_i \\rho^i, g(\\rho) = \\sum_{i=0} P_i \\rho^i$. \n",
    "\n",
    "This is useful construct because of the following. Consider the sum of the following equations\n",
    "$\\begin{align}\n",
    "    \\rho^0 C^1 &= \\rho^0 ((\\ell-1) C^0 + k P^0) \\\\\n",
    "    + \\rho^1 C^2 &= \\rho^1 (\\ell -1) C^1 + k P^1) \\\\\n",
    "    \\vdots & \\cdots \\vdots \\\\\n",
    "\\end{align}$\n",
    "This is equal to \n",
    "$\\begin{align}\n",
    "    \\sum_{i=0} C_{i+1} \\rho^{i} &= \\sum_{i=0} (\\ell -1) \\rho^i [C_{i} + k P_i] \\\\\n",
    "    \\frac{f(\\rho) - C_0}{\\rho} &= (\\ell - 1) f(\\rho) + k g(\\rho) \\\\\n",
    "    f(\\rho) * [1 - (\\ell - 1)\\rho] - k\\rho g(\\rho) &= C_0 \\\\\n",
    "\\end{align}$\n",
    "\n",
    "And for $P^n$ we have:\n",
    "$\\begin{align}\n",
    "    \\rho^0 P^1 &= k \\rho^0 C^{0} \\\\\n",
    "    + \\rho^1 P^2 &= k \\rho^1 C^1 \\\\\n",
    "    \\vdots & \\cdots & \\vdots \\\\\n",
    "\\end{align}$\n",
    "Yields \n",
    "$\\begin{align}\n",
    "    \\sum_{i=0} P^{i+1} \\rho^i &= \\sum_{i=0}  \\rho^i C^i \\\\ \n",
    "    \\frac{g(\\rho) - P_0}{\\rho} &=  f(\\rho) \\\\ \n",
    "    -  \\rho f(\\rho) + g(\\rho) &= P_0 \n",
    "\\end{align}$\n",
    "This leaves us with the linear system \n",
    "$\\begin{bmatrix}\n",
    "1 - 2(l-1)\\rho & -  k\\rho \\\\ \n",
    "-\\rho & 1 \\\\\n",
    "\\end{bmatrix}\\begin{bmatrix}\n",
    "f \\\\ g \\end{bmatrix} = \\begin{bmatrix} 1 \\\\ 1 \\end{bmatrix}$\n",
    "\n",
    "\n",
    "Note that this is system that is 2 x 2 regardless of how big the core and periphery are. This is the main use of this method, a way to compute the centrality of similarly placed nodes nodes in the graph. The graph where there are two types of nodes should only have two different centralities prssent.  "
   ]
  },
  {
   "cell_type": "markdown",
   "metadata": {},
   "source": []
  },
  {
   "cell_type": "code",
   "execution_count": 72,
   "metadata": {},
   "outputs": [
    {
     "name": "stdout",
     "output_type": "stream",
     "text": [
      "[[-5.00000000e+00]\n",
      " [ 6.66133815e-16]]\n"
     ]
    },
    {
     "data": {
      "text/plain": [
       "array([[-5.00000000e+00],\n",
       "       [-5.00000000e+00],\n",
       "       [-5.00000000e+00],\n",
       "       [-5.00000000e+00],\n",
       "       [ 3.33066907e-16],\n",
       "       [ 3.33066907e-16],\n",
       "       [ 5.55111512e-16],\n",
       "       [ 3.33066907e-16],\n",
       "       [ 5.55111512e-16],\n",
       "       [ 2.77555756e-16],\n",
       "       [ 6.10622664e-16],\n",
       "       [ 3.33066907e-16]])"
      ]
     },
     "execution_count": 72,
     "metadata": {},
     "output_type": "execute_result"
    }
   ],
   "source": [
    "n = len(A)\n",
    "x = 0.2\n",
    "smallA = np.array([[1-6*x, -2*x],[-x , 1]] )\n",
    "ones = np.ones((2,1))\n",
    "print(lin.inv(smallA) @ ones)\n",
    "lin.inv(np.eye(n,n) - x*(A+A.T)) @ np.ones((n,1))"
   ]
  },
  {
   "cell_type": "markdown",
   "metadata": {},
   "source": [
    "Notice that above our 2x2 system gets all the values of the bigger full system. That isn't all. This formulation puts f and g as a rational function of $\\rho$ as well as k and l. Speicifically the denominator will by $1 - 2(\\ell -1)\\rho - k \\rho^2$ which has a non negative zero at exactly $\\frac{1}{\\|G + G^T\\|}$"
   ]
  },
  {
   "cell_type": "code",
   "execution_count": 75,
   "metadata": {},
   "outputs": [
    {
     "data": {
      "text/plain": [
       "0.0"
      ]
     },
     "execution_count": 75,
     "metadata": {},
     "output_type": "execute_result"
    }
   ],
   "source": [
    "x  = 1/lin.norm(A.T + A, ord=2)\n",
    "root = 1 - (6*x + 2*x*x  )\n",
    "root"
   ]
  },
  {
   "cell_type": "markdown",
   "metadata": {},
   "source": [
    "# Further Steps\n",
    "This is good but too restrictive for no reason. For starters we don't need the core completely connected we just need it regular so that each core node is esentially the same. Doing so we would just replace $l-1$ with overmany edges from core nodes to core nodes there are. \n",
    "\n",
    "There's also no reason this needs to be a \"2 layer\" system. We could instead imagine a 3 class problem of a core interanlly connected with some regularity constant $d_1$, each branching to $k_1$ peripheral nodes. But then these peripheral nodes could be internally linked with some regularity constant $d_2$ and have a branching factor themselves to a third value. For three body problem I will denote the classes as P Q and R where P is the nodes in the innermost layer, Q is the middle, R is the outermost layer of nodes. To specify such a graph we need 1) How many innermost nodes there are 2) The branching factor from P to Q and Q to R 3) how Q and R are connected internally. \n",
    "\n",
    "\n",
    "## Example \n",
    "Below we make a graph with 2 innermost nodes(P), 6 middle layer nodes(Q), and 12 outerlayer nodes(R). So we would say |P|=2, $k_1 = 3, k_2 = 2$, $d_1 = 1 , d_2 = 2$"
   ]
  },
  {
   "cell_type": "code",
   "execution_count": 121,
   "metadata": {},
   "outputs": [],
   "source": [
    "n = 20\n",
    "A = np.zeros((20,20))\n",
    "A[0,1:5] = 1\n",
    "A[1,0] = A[1,5:8] = 1\n",
    "A[2,3] = A[2,7] = A[2,8] = A[2,9] = 1\n",
    "A[3,2] = A[3,4] = A[3,10] = A[3,11] = 1\n",
    "A[4, 3] = A[4, 5] = A[4,12] = A[4,13] = 1\n",
    "A[5, 4] = A[5,6] = A[5,14] = A[5,15] = 1\n",
    "A[6, 5] = A[6,7] = A[6,16] = A[6,17] = 1\n",
    "A[7,2] = A[7,6] = A[7,18] = A[7,19] = 1 \n",
    "G = nx.from_numpy_matrix(A, create_using=nx.DiGraph)\n",
    "# nx.draw_spectral(G)\n",
    "\n",
    "\n"
   ]
  },
  {
   "cell_type": "markdown",
   "metadata": {},
   "source": [
    "Sadly, networkx, pythons graph library is struggling with this graph. Here is a picture made in latex ![oops](images/pqr.png)"
   ]
  },
  {
   "cell_type": "markdown",
   "metadata": {},
   "source": [
    "We can analzye this system using essentially the same sort of method we used for the 2 body case. \n",
    "Here we have 3 recursive formulas like \n",
    "\n",
    "$P^n = 2 d_1 P^{n-1} + k_1 Q^{n-1} + 0 R^{n-1}$\n",
    "\n",
    "$Q^n = P^{n-1} + 2 d_1 Q^{n-1} + k_2 R^{n-1}$\n",
    "\n",
    "$R^n = 0 P^{n-1} + Q^{n-1} + R^{n-1}$\n",
    "\n",
    "and when  we let f,g,h to be the weighted sum of of P,Q, and R and solve for them we will get \n",
    "$$\\begin{bmatrix}\n",
    "  1-2*d_1*x & - k_1 x & 0 \\\\ \n",
    "  -x & 1 - 2*d_2 x & -k_2 x \\\\\n",
    "  0 & -x & 1 \n",
    "\\end{bmatrix}\\begin{bmatrix}\n",
    "  f \\\\ g \\\\ h\n",
    "\\end{bmatrix} = \\begin{bmatrix}\n",
    "  1 \\\\ 1 \\\\ 1\n",
    "\\end{bmatrix}$$\n",
    "\n",
    "Below we experiment with the symoblic python library "
   ]
  },
  {
   "cell_type": "code",
   "execution_count": 183,
   "metadata": {},
   "outputs": [
    {
     "name": "stdout",
     "output_type": "stream",
     "text": [
      "M sybmolic\n",
      "Matrix([[-2.0*d_1*x + 1, -k_1*x, 0], [-x, -2*d_2*x + 1, -k_2*x], [0, -x, 1]])\n",
      "Polynomial of determinant\n",
      "Poly(4.0*x**3 + 3.0*x**2 - 6.0*x + 1.0, x, domain='RR')\n"
     ]
    },
    {
     "data": {
      "text/latex": [
       "$\\displaystyle 0.1890379$"
      ],
      "text/plain": [
       "0.1890379"
      ]
     },
     "execution_count": 183,
     "metadata": {},
     "output_type": "execute_result"
    }
   ],
   "source": [
    "import sympy\n",
    "from sympy import Matrix, symbols, CRootOf\n",
    "x = symbols('x')\n",
    "d1 = symbols(\"d_1\")\n",
    "d2 = symbols(\"d_2\")\n",
    "k1 = symbols(\"k_1\")\n",
    "k2 = symbols(\"k_2\")\n",
    "M = Matrix([[1 - (2/1)*d1 * x, -k1*x, 0], [-x, 1-2*d2*x, -k2*x], [0, -x, 1]])\n",
    "print(\"M sybmolic\")\n",
    "print(M)\n",
    "roots = sympy.Poly(M.subs(d1, 1).subs(d2, 2).subs(k1, 3).subs(k2,2).det(), x)\n",
    "print(\"Polynomial of determinant\")\n",
    "print(roots)\n",
    "r1 = sympy.RootOf(roots, 1) # what root to get\n",
    "r1.evalf(7) # how accurate "
   ]
  },
  {
   "cell_type": "code",
   "execution_count": 178,
   "metadata": {},
   "outputs": [
    {
     "data": {
      "text/plain": [
       "0.18903787928261542"
      ]
     },
     "execution_count": 178,
     "metadata": {},
     "output_type": "execute_result"
    }
   ],
   "source": [
    "1/lin.norm(A+A.T, ord=2)"
   ]
  },
  {
   "cell_type": "markdown",
   "metadata": {},
   "source": [
    "Again we see that one of the roots of this 3x3 determinant is $1/\\|G+G^T\\|$"
   ]
  },
  {
   "cell_type": "markdown",
   "metadata": {},
   "source": [
    "# Conclusion\n",
    "This sort of math can be extended and leveraged effectively  to any graph where the number of \"types\" of nodes is well understand even if the graph itself is large. For example here we studied a 3x3 system instad of a 20x20 system. Furthermore one of the roots of the determinant is connected to the spectral norm of $A+A^T$. This makes sense because this term is governing when the 3x3 inverse and $(I - \\rho (G+G^T))^{-1}$ are well defined. "
   ]
  },
  {
   "cell_type": "markdown",
   "metadata": {},
   "source": []
  }
 ],
 "metadata": {
  "interpreter": {
   "hash": "f8bf12b52825272ca753cd984c5229bfdc42f0a289f2d02e86b988d3513b4f71"
  },
  "kernelspec": {
   "display_name": "Python 3.8.10 64-bit ('pDL': conda)",
   "name": "python3"
  },
  "language_info": {
   "codemirror_mode": {
    "name": "ipython",
    "version": 3
   },
   "file_extension": ".py",
   "mimetype": "text/x-python",
   "name": "python",
   "nbconvert_exporter": "python",
   "pygments_lexer": "ipython3",
   "version": "3.8.10"
  },
  "orig_nbformat": 4
 },
 "nbformat": 4,
 "nbformat_minor": 2
}
