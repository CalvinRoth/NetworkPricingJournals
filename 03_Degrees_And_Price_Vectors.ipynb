{
 "cells": [
  {
   "cell_type": "markdown",
   "metadata": {},
   "source": [
    "# Journal 03 Indegree and out degree \n",
    "\n",
    "Here we investigate the situation where we are told that $G 1 = u, G^T 1 = v$ i.e. we know just the in degree and out degree of each node. \n",
    "\n",
    "\n",
    "\n",
    "\n"
   ]
  },
  {
   "cell_type": "code",
   "execution_count": 1,
   "metadata": {},
   "outputs": [
    {
     "name": "stdout",
     "output_type": "stream",
     "text": [
      "15 15\n"
     ]
    }
   ],
   "source": [
    "import networkx as nx\n",
    "import numpy as np\n",
    "from numpy.linalg import inv, cond,norm\n",
    "import numpy.linalg as lin \n",
    "from scipy.linalg import svdvals \n",
    "\n",
    "n_trials = 15000\n",
    "n = 5\n",
    "g_set = np.zeros((n,n, n_trials))\n",
    "in_seq = np.array([1,3,4,2,5])\n",
    "out_seq = np.array([5,5,3,1,1])\n",
    "print(sum(in_seq), sum(out_seq))\n",
    "count = 0 \n",
    "L = 0 # Largest norm \n",
    "for i in range(n_trials):\n",
    "    G = nx.directed_configuration_model(in_seq, out_seq)\n",
    "    Gmat = nx.adjacency_matrix(G).todense()\n",
    "    flag = True\n",
    "    #for i in range(count): # don't include it if we already saw it\n",
    "    #    if( np.array_equal(Gmat, g_set[:,:,i]) ):\n",
    "    #        flag = False\n",
    "    if(flag): \n",
    "        g_set[:,:, count] = Gmat.copy()\n",
    "        count += 1\n",
    "        gnorm = lin.norm( (Gmat+Gmat.T), ord = 2)\n",
    "        if(gnorm > L):\n",
    "            L = gnorm\n",
    "\n",
    "I = np.eye(n,n)\n",
    "g_set = g_set[:,:, 0:count]\n",
    "x = 0.99 / L\n",
    "g_set0 = g_set[:,:,0].copy() \n",
    "g_set1  = inv(I - x* g_set[:,:,0].copy())\n",
    "for i in range(1, count):\n",
    "    g_set0 += g_set[:,:, i].copy()\n",
    "    g_set1 += inv(I - x * g_set[:,:,i].copy()) "
   ]
  },
  {
   "cell_type": "markdown",
   "metadata": {},
   "source": []
  },
  {
   "cell_type": "code",
   "execution_count": 2,
   "metadata": {},
   "outputs": [
    {
     "data": {
      "text/plain": [
       "array([1.54369087, 1.01909158, 1.010607  , 1.00682075, 1.00355844])"
      ]
     },
     "execution_count": 2,
     "metadata": {},
     "output_type": "execute_result"
    }
   ],
   "source": [
    "omega_g_seta = lin.inv(I - (1/count)*g_set0)\n",
    "omega_g_setb = (1/count) * g_set1\n",
    "\n",
    "\n",
    "total_degree = sum(in_seq)\n",
    "u = np.reshape(in_seq, (5,1))\n",
    "v = np.reshape(out_seq, (1,5))\n",
    "lin.eigvals(omega_g_setb)"
   ]
  },
  {
   "cell_type": "code",
   "execution_count": null,
   "metadata": {},
   "outputs": [],
   "source": []
  }
 ],
 "metadata": {
  "interpreter": {
   "hash": "f8bf12b52825272ca753cd984c5229bfdc42f0a289f2d02e86b988d3513b4f71"
  },
  "kernelspec": {
   "display_name": "Python 3.8.10 64-bit ('pDL': conda)",
   "name": "python3"
  },
  "language_info": {
   "codemirror_mode": {
    "name": "ipython",
    "version": 3
   },
   "file_extension": ".py",
   "mimetype": "text/x-python",
   "name": "python",
   "nbconvert_exporter": "python",
   "pygments_lexer": "ipython3",
   "version": "3.8.10"
  },
  "orig_nbformat": 4
 },
 "nbformat": 4,
 "nbformat_minor": 2
}
