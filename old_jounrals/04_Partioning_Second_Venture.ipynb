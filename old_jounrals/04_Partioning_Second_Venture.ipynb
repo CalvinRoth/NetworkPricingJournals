{
 "cells": [
  {
   "cell_type": "markdown",
   "metadata": {},
   "source": [
    "## Journal 04 Further Partitioning\n",
    "\n",
    "In this journal we furtehr investigate the partitioning method we investigated in journal 2. The goal of this journal is try an discover what properties of a graph are associated with a particular partition leading to a greater profit versus another. We will start with the example from journal 02. "
   ]
  },
  {
   "cell_type": "code",
   "execution_count": 1,
   "metadata": {},
   "outputs": [],
   "source": [
    "import networkx as nx\n",
    "import numpy as np\n",
    "from numpy.linalg import inv, cond,norm\n",
    "import numpy.linalg as lin \n",
    "from scipy.linalg import svdvals \n",
    "import helperfunctions.util\n",
    "a = 6\n",
    "c = 4\n",
    "n = 20\n",
    "G = np.zeros((20,20))\n",
    "G[0,1:5] = 1\n",
    "G[1,0] = G[1,5:8] = 1\n",
    "G[2,3] = G[2,7] = G[2,8] = G[2,9] = 1\n",
    "G[3,2] = G[3,4] = G[3,10] = G[3,11] = 1\n",
    "G[4, 3] = G[4, 5] = G[4,12] = G[4,13] = 1\n",
    "G[5, 4] = G[5,6] = G[5,14] = G[5,15] = 1\n",
    "G[6, 5] = G[6,7] = G[6,16] = G[6,17] = 1\n",
    "G[7,2] = G[7,6] = G[7,18] = G[7,19] = 1 \n",
    "\n",
    "ones = np.ones((20,))\n",
    "I = np.eye(20,20)\n",
    "e = np.zeros((20,1))\n",
    "f = np.zeros((20,1))\n",
    "g = np.zeros((20,1))\n",
    "\n",
    "for i in range(20):\n",
    "    if( i < 2 ):\n",
    "        e[i] = 1\n",
    "    elif(i < 8):\n",
    "        f[i] = 1\n",
    "    else:\n",
    "        g[i] = 1\n"
   ]
  },
  {
   "cell_type": "markdown",
   "metadata": {},
   "source": [
    "We will wrap some parts into a function to make it easier to change other graphs. For this journal just for ease of use we will stick to this 20 node graph and only change the edges. "
   ]
  },
  {
   "cell_type": "code",
   "execution_count": 2,
   "metadata": {},
   "outputs": [],
   "source": [
    "def setup(G):\n",
    "    \"\"\"_summary_\n",
    "\n",
    "    Args:\n",
    "        G (Matrix): adj graph of matrix to set up for\n",
    "\n",
    "    Returns:\n",
    "        Mat, vec, rho: returns the constraint matrix and vector, and rho needed to solved reduced systems\n",
    "    \"\"\"\n",
    "    rho = 0.95 / norm(G + G.T, ord=2)\n",
    "    B = 0.5 * lin.inv( np.eye(20,20) - 2*rho * G)\n",
    "    constraint_mat = np.zeros((3,3))\n",
    "    constraint_vec = np.zeros((3,))\n",
    "\n",
    "    constraint_mat[0,0] = 2 * e.T @ B @ e \n",
    "    constraint_mat[0,1] = e.T @ B @ f + f.T @ B @ e  \n",
    "    constraint_mat[0,2] = e.T @ B @ g + g.T @ B @ e\n",
    "    constraint_mat[1,0] = f.T @ B @ e  + e.T @ B @ f \n",
    "    constraint_mat[1,1] = 2 * f.T @ B @ f\n",
    "    constraint_mat[1,2] = f.T @ B @ g + g.T @ B @ f \n",
    "    constraint_mat[2,0] = e.T @ B @ g + g.T @  B @ e \n",
    "    constraint_mat[2,1] = f.T @ B @ g + g.T @ B @ f\n",
    "    constraint_mat[2,2] = 2 * g.T @ B @ g\n",
    "    constraint_vec[0,] = a * e.T @ B @ ones + c * ones.T @ B @ e \n",
    "    constraint_vec[1,] = a * f.T @ B @ ones + c * ones.T @ B @ f \n",
    "    constraint_vec[2,] = a * g.T @ B @ ones + c * ones.T @ B @ g\n",
    "    return constraint_mat, constraint_vec, rho\n",
    "\n"
   ]
  },
  {
   "cell_type": "code",
   "execution_count": 3,
   "metadata": {},
   "outputs": [],
   "source": [
    "[constraint_mat_g, constraint_vec_g, rho_g] = setup(G)"
   ]
  },
  {
   "cell_type": "markdown",
   "metadata": {},
   "source": [
    "Recall we had three partitions"
   ]
  },
  {
   "cell_type": "code",
   "execution_count": 4,
   "metadata": {},
   "outputs": [],
   "source": [
    "part_pq = np.array([[1,0],[1,0], [0,1]])\n",
    "part_pr = np.array([[1,0],[0,1], [1,0]])\n",
    "part_qr = np.array([[1,0],[0,1],[0,1]])\n",
    "# new constraints \n",
    "v_pq = inv(part_pq.T @ constraint_mat_g @ part_pq) @ (part_pq.T @ constraint_vec_g)\n",
    "v_pr = inv(part_pr.T @ constraint_mat_g @ part_pr) @ (part_pr.T @ constraint_vec_g)\n",
    "v_qr = inv(part_qr.T @ constraint_mat_g @ part_qr) @ (part_qr.T @ constraint_vec_g)"
   ]
  },
  {
   "cell_type": "markdown",
   "metadata": {},
   "source": [
    "With optimal prices given by"
   ]
  },
  {
   "cell_type": "code",
   "execution_count": 5,
   "metadata": {},
   "outputs": [],
   "source": [
    "price_pq_g = np.zeros((20,))\n",
    "price_pr_g = np.zeros((20,))\n",
    "price_qr_g = np.zeros((20,))\n",
    "for i in range(20):\n",
    "    if(i < 2):\n",
    "        price_pq_g[i] = v_pq[0]\n",
    "        price_pr_g[i] = v_pr[0]\n",
    "        price_qr_g[i] = v_qr[0]\n",
    "    elif(i < 8):\n",
    "        price_pq_g[i] = v_pq[0]\n",
    "        price_pr_g[i] = v_pr[1]\n",
    "        price_qr_g[i] = v_qr[1] \n",
    "    else:\n",
    "        price_pq_g[i] = v_pq[1]\n",
    "        price_pr_g[i] = v_pr[0]\n",
    "        price_qr_g[i] = v_qr[1]\n",
    "\n",
    "true_vector_g = helperfunctions.util.price_vector(a, c, rho_g, G)\n",
    "true_profit = helperfunctions.util.optProfit(G, rho_g, a, c)\n"
   ]
  },
  {
   "cell_type": "markdown",
   "metadata": {},
   "source": [
    "Which leads to profits of "
   ]
  },
  {
   "cell_type": "code",
   "execution_count": 6,
   "metadata": {},
   "outputs": [
    {
     "name": "stdout",
     "output_type": "stream",
     "text": [
      "Profit_pq 53.64776127206805\n",
      "Profit_pr 36.441155376588014\n",
      "Profit_qr 117.93024338508046\n",
      "Compared to the optimal of 129.40991805074188\n"
     ]
    }
   ],
   "source": [
    "profit_pq = helperfunctions.util.computeProfit(G, price_pq_g, rho_g, a, c)\n",
    "profit_pr = helperfunctions.util.computeProfit(G, price_pr_g, rho_g, a, c)\n",
    "profit_qr = helperfunctions.util.computeProfit(G, price_qr_g, rho_g, a, c)\n",
    "print(\"Profit_pq\", profit_pq)\n",
    "print(\"Profit_pr\", profit_pr)\n",
    "print(\"Profit_qr\", profit_qr)\n",
    "print(\"Compared to the optimal of\", true_profit)"
   ]
  },
  {
   "cell_type": "markdown",
   "metadata": {},
   "source": [
    "In this case the ordering of performance for different partitions was 1. qr 2. pq 3. pr and there is a notable gap between the three classes. Consider now a new system from graph H"
   ]
  },
  {
   "cell_type": "code",
   "execution_count": 7,
   "metadata": {},
   "outputs": [],
   "source": [
    "H = np.zeros((20,20))\n",
    "H[0,1:5] = 1\n",
    "H[1,0] = H[1,5:8] = 1\n",
    "H[2,3] = H[2,7] = H[2,8] = H[2,9] = 1\n",
    "H[3,2] = H[3,4] = H[3,10] = H[3,11] = 1\n",
    "H[4, 3] = H[4, 5] = H[4,12] = H[4,13] = 1\n",
    "H[5, 4] = H[5,6] = H[5,14] = H[5,15] = 1\n",
    "H[6, 5] = H[6,7] = H[6,16] = H[6,17] = 1\n",
    "H[7,2] = H[7,6] = H[7,18] = H[7,19] = 1 \n",
    "H[19,7] = H[18,7] = H[17,6] = H[16,6] = 1\n",
    "H[15,5] = H[14,5] = H[13,4] = H[12,4] = 1\n",
    "H[11,3] = H[10,3] = H[9, 2] = H[8,2] = 1 \n",
    "H[19,0] = H[18,1] = H[17,0] = H[16,1] = 1\n",
    "H[15,0] = H[14,1] = H[13,0] = H[12,1] = 1\n",
    "H[11,0] = H[10,1] = H[9,0] = H[8,1] = 1\n",
    "constraint_mat_h, constraint_vec_h, rho_h = setup(H)"
   ]
  },
  {
   "cell_type": "markdown",
   "metadata": {},
   "source": [
    "From which can play the same profit finding game"
   ]
  },
  {
   "cell_type": "code",
   "execution_count": 8,
   "metadata": {},
   "outputs": [
    {
     "name": "stdout",
     "output_type": "stream",
     "text": [
      "Profit_pq 157.2143828281001\n",
      "Profit_pr 163.40591196034893\n",
      "Profit_qr 106.56771460475835\n",
      "Compared to the optimal of 170.9657981411967\n"
     ]
    }
   ],
   "source": [
    "v_pq = inv(part_pq.T @ constraint_mat_h @ part_pq) @ (part_pq.T @ constraint_vec_h)\n",
    "v_pr = inv(part_pr.T @ constraint_mat_h @ part_pr) @ (part_pr.T @ constraint_vec_h)\n",
    "v_qr = inv(part_qr.T @ constraint_mat_h @ part_qr) @ (part_qr.T @ constraint_vec_h)\n",
    "price_pq_h = np.zeros((20,))\n",
    "price_pr_h = np.zeros((20,))\n",
    "price_qr_h = np.zeros((20,))\n",
    "for i in range(20):\n",
    "    if(i < 2):\n",
    "        price_pq_h[i] = v_pq[0]\n",
    "        price_pr_h[i] = v_pr[0]\n",
    "        price_qr_h[i] = v_qr[0]\n",
    "    elif(i < 8):\n",
    "        price_pq_h[i] = v_pq[0]\n",
    "        price_pr_h[i] = v_pr[1]\n",
    "        price_qr_h[i] = v_qr[1] \n",
    "    else:\n",
    "        price_pq_h[i] = v_pq[1]\n",
    "        price_pr_h[i] = v_pr[0]\n",
    "        price_qr_h[i] = v_qr[1]\n",
    "\n",
    "\n",
    "profit_pq = helperfunctions.util.computeProfit(H, price_pq_h, rho_h, a, c)\n",
    "profit_pr = helperfunctions.util.computeProfit(H, price_pr_h, rho_h, a, c)\n",
    "profit_qr = helperfunctions.util.computeProfit(H, price_qr_h, rho_h, a, c)\n",
    "true_profit = helperfunctions.util.optProfit(H, rho_h, a, c)\n",
    "true_vector_h = helperfunctions.util.price_vector(a, c, rho_h, H)\n",
    "\n",
    "print(\"Profit_pq\", profit_pq)\n",
    "print(\"Profit_pr\", profit_pr)\n",
    "print(\"Profit_qr\", profit_qr)\n",
    "print(\"Compared to the optimal of\", true_profit)"
   ]
  },
  {
   "cell_type": "markdown",
   "metadata": {},
   "source": [
    "In this case the ordering is 1. pr 2. pq, 3. qr. So the question is what about G and H indicates which system we should consider. It isn't entirely obvious so we will investigate some natural ideas. \n",
    "\n",
    "## Guess 1: condensed matrix norms\n",
    "Where we will look at if the order $\\| C B C^T \\|$ predicts the order of profits where B is the matrix $(I - 2 \\rho G)^{-1}$"
   ]
  },
  {
   "cell_type": "code",
   "execution_count": 9,
   "metadata": {},
   "outputs": [
    {
     "name": "stdout",
     "output_type": "stream",
     "text": [
      "[109.6129190212143, 108.1757980529781, 161.49954764110774]\n"
     ]
    }
   ],
   "source": [
    "h_norms_2 = [0,0,0]\n",
    "h_norms_2[0] = norm(part_pq.T @ constraint_mat_h @ part_pq, ord=\"fro\")\n",
    "h_norms_2[1] = norm(part_pr.T @ constraint_mat_h @ part_pr, ord=\"fro\")\n",
    "h_norms_2[2] = norm(part_qr.T @ constraint_mat_h @ part_qr, ord=\"fro\")\n",
    "print(h_norms_2)\n"
   ]
  },
  {
   "cell_type": "code",
   "execution_count": 10,
   "metadata": {},
   "outputs": [
    {
     "name": "stdout",
     "output_type": "stream",
     "text": [
      "[41.84969521216497, 37.23512531350235, 50.819925076471286]\n"
     ]
    }
   ],
   "source": [
    "g_norms_2 = [0,0,0]\n",
    "g_norms_2[0] = norm(part_pq.T @ constraint_mat_g @ part_pq, ord=\"fro\")\n",
    "g_norms_2[1] = norm(part_pr.T @ constraint_mat_g @ part_pr, ord=\"fro\")\n",
    "g_norms_2[2] = norm(part_qr.T @ constraint_mat_g @ part_qr, ord=\"fro\")\n",
    "print(g_norms_2)"
   ]
  },
  {
   "cell_type": "markdown",
   "metadata": {},
   "source": [
    "This shows that nrom as stated is not the correct approach because both systems are ordered via norm but have different prerferrences for partitions. \n",
    "\n",
    "## Idea 2, \"distance\" from orginal contraint\n",
    "Another guess is if we have some partition $C$ and squish the constraint to $C^T A C$ and unsquish it by averaging the partition that induces the least distance is best. \n",
    "\n",
    "### Example \n",
    "if $A = \\begin{bmatrix} 1 & 2 & 3 \\\\ 4 & 5 & 6 \\\\ 7 & 8 & 9 \\end{bmatrix}, C = \\begin{bmatrix} 1 & 0 \\\\ 1 & 0 \\\\ 0 & 1 \\end{bmatrix}$ then we have $C^T A C = \\begin{bmatrix} 1+2+4+5 & 3 + 6 \\\\ 7 + 8 & 9 \\end{bmatrix} = \\begin{bmatrix} 12 & 9 \\\\ 15 & 9\\end{bmatrix}$. But if we want to map back to a 3x3 matrix we lose some information and instead have \n",
    "$guess_C = \\begin{bmatrix} 3 & 4.5 \\\\ 7.5 & 4.5 \\end{bmatrix}$. I am proposing that the distance between this averaged matrix and the original matrix matters"
   ]
  },
  {
   "cell_type": "markdown",
   "metadata": {},
   "source": [
    "This shows that such a "
   ]
  },
  {
   "cell_type": "code",
   "execution_count": 11,
   "metadata": {},
   "outputs": [
    {
     "name": "stdout",
     "output_type": "stream",
     "text": [
      "[[1 0]\n",
      " [1 0]\n",
      " [0 1]]\n",
      "[[1 2 3]\n",
      " [4 5 6]\n",
      " [7 8 9]]\n",
      "[[12  9]\n",
      " [15  9]]\n"
     ]
    }
   ],
   "source": [
    "print(part_pq)\n",
    "C = np.array([[1,2,3], [4,5,6], [7,8,9]])\n",
    "print(C)\n",
    "print(part_pq.T @ C @ part_pq)"
   ]
  },
  {
   "cell_type": "markdown",
   "metadata": {},
   "source": [
    "The number of elements that are merged to together is the number of ones in column i * # ones in row j of the partition. "
   ]
  },
  {
   "cell_type": "code",
   "execution_count": 12,
   "metadata": {},
   "outputs": [],
   "source": [
    "rev_pq = np.array([[0.5, 0.5, 0], [0, 0.0, 1]])\n",
    "rev_qr = np.array([ [1, 0, 0], [0, 0.5, 0.5]])\n",
    "rev_pr = np.array([ [0.5, 0, 0.5], [0, 1, 0]])\n"
   ]
  },
  {
   "cell_type": "markdown",
   "metadata": {},
   "source": [
    "To make this averaging operation epxlicit we will show the operations on the matrix C"
   ]
  },
  {
   "cell_type": "code",
   "execution_count": 13,
   "metadata": {},
   "outputs": [
    {
     "name": "stdout",
     "output_type": "stream",
     "text": [
      "C orginal\n",
      "[[1 2 3]\n",
      " [4 5 6]\n",
      " [7 8 9]]\n",
      "C condensed in PQ fashion\n",
      "[[12  9]\n",
      " [15  9]]\n",
      "Averaged back to 3x3\n",
      "[[3.  3.  4.5]\n",
      " [3.  3.  4.5]\n",
      " [7.5 7.5 9. ]]\n",
      "C condense in QR fashion\n",
      "[[ 1  5]\n",
      " [11 28]]\n",
      "Averaged back to 3x3\n",
      "[[1.  2.5 2.5]\n",
      " [5.5 7.  7. ]\n",
      " [5.5 7.  7. ]]\n",
      "C condensed in PR fashion\n",
      "[[20 10]\n",
      " [10  5]]\n",
      "Averaged back to 3x3\n",
      "[[5. 5. 5.]\n",
      " [5. 5. 5.]\n",
      " [5. 5. 5.]]\n"
     ]
    }
   ],
   "source": [
    "print(\"C orginal\")\n",
    "print(C)\n",
    "print(\"C condensed in PQ fashion\")\n",
    "c_pq = part_pq.T @ C @ part_pq\n",
    "print(c_pq)\n",
    "print(\"Averaged back to 3x3\")\n",
    "c_pq_avg =  rev_pq.T @ c_pq @ rev_pq\n",
    "print(c_pq_avg)\n",
    "print(\"C condense in QR fashion\")\n",
    "c_qr = part_qr.T @  C @ part_qr\n",
    "print(c_qr)\n",
    "print(\"Averaged back to 3x3\")\n",
    "c_qr_avg = rev_qr.T @ c_qr @ rev_qr\n",
    "print(c_qr_avg)\n",
    "print(\"C condensed in PR fashion\")\n",
    "c_pr = part_pr.T @ C @ part_pr\n",
    "print(c_pr)\n",
    "print(\"Averaged back to 3x3\")\n",
    "c_pr_avg = rev_pr.T @ c_pr @ rev_pr\n",
    "print(c_pr_avg)"
   ]
  },
  {
   "cell_type": "markdown",
   "metadata": {},
   "source": [
    "Now we calculatet this for g and h"
   ]
  },
  {
   "cell_type": "code",
   "execution_count": 14,
   "metadata": {},
   "outputs": [
    {
     "name": "stdout",
     "output_type": "stream",
     "text": [
      "[14.681831981677286, 7.276840447700115, 11.273696135698133]\n"
     ]
    },
    {
     "data": {
      "text/plain": [
       "[38.62692757794101, 35.834119140963786, 5.2917234007707705]"
      ]
     },
     "execution_count": 14,
     "metadata": {},
     "output_type": "execute_result"
    }
   ],
   "source": [
    "g_pq = part_pq.T @ constraint_mat_g @ part_pq\n",
    "h_pq = part_pq.T @ constraint_mat_h @ part_pq\n",
    "g_pr = part_pr.T @ constraint_mat_g  @ part_pr\n",
    "h_pr = part_pr.T @ constraint_mat_h @ part_pr\n",
    "g_qr = part_qr.T @ constraint_mat_g @ part_qr\n",
    "h_qr = part_qr.T @ constraint_mat_h @ part_qr\n",
    "\n",
    "g_pq_avg = rev_pq.T @ g_pq @ rev_pq\n",
    "h_pq_avg = rev_pq.T @ h_pq @ rev_pq\n",
    "g_pr_avg = rev_pr.T @ g_pr @ rev_pr\n",
    "h_pr_avg = rev_pr.T @ h_pr @ rev_pr\n",
    "g_qr_avg = rev_qr.T @ g_qr @ rev_qr\n",
    "h_qr_avg = rev_qr.T @ h_qr @ rev_qr\n",
    "\n",
    "g_diffs = [norm(constraint_mat_g - g_pq_avg, ord=\"fro\"),\n",
    "           norm(constraint_mat_g - g_pr_avg, ord=\"fro\"),\n",
    "           norm(constraint_mat_g - g_qr_avg, ord=\"fro\")\n",
    "            ]\n",
    "print(g_diffs)\n",
    "h_diffs = [norm(constraint_mat_h - h_pq_avg, ord=\"fro\"),\n",
    "           norm(constraint_mat_h - h_pr_avg, ord=\"fro\"),\n",
    "           norm(constraint_mat_h - h_qr_avg, ord=\"fro\")\n",
    "            ]\n",
    "h_diffs"
   ]
  },
  {
   "cell_type": "markdown",
   "metadata": {},
   "source": [
    "Sadly this also indicates this is not the answer.\n",
    "\n",
    "Yet another guess is that it is the distance from the original price vectors that matter"
   ]
  },
  {
   "cell_type": "code",
   "execution_count": 15,
   "metadata": {},
   "outputs": [
    {
     "name": "stdout",
     "output_type": "stream",
     "text": [
      "[16.56516748914526, 16.326147028781243, 70.00053210668099]\n"
     ]
    }
   ],
   "source": [
    "true_vector_g = np.reshape(true_vector_g, (20,))\n",
    "true_vector_h = np.reshape(true_vector_h, (20,))\n",
    "\n",
    "g_vec_diffs = [ sum([ abs(i) for i in true_vector_g - price_pq_g]),\n",
    "                sum([ abs(i) for i in true_vector_g - price_pr_g]),\n",
    "                sum([ abs(i) for i in true_vector_g - price_qr_g])]\n",
    "\n",
    "g_vec_diffs\n",
    "\n",
    "h_vec_diffs = [ sum([ abs(i) for i in true_vector_h - price_pq_h]),\n",
    "                sum([ abs(i) for i in true_vector_h - price_pr_h]),\n",
    "                sum([ abs(i) for i in true_vector_h - price_qr_h])]\n",
    "print(h_vec_diffs)"
   ]
  },
  {
   "cell_type": "code",
   "execution_count": 16,
   "metadata": {},
   "outputs": [
    {
     "name": "stdout",
     "output_type": "stream",
     "text": [
      "Profit_pq 127.40277348762262\n",
      "Profit_pr 64.51458537683735\n",
      "Profit_qr 25.51727683323866\n",
      "Compared to the optimal of 152.82211853097766\n"
     ]
    }
   ],
   "source": [
    "I = np.zeros((20,20))\n",
    "I[0,1:5] = 1\n",
    "I[1,0] = I[1,5:8] = 1\n",
    "#I[2,3] = I[2,7] = I[2,8] = I[2,9] = 1\n",
    "#I[3,2] = I[3,4] = I[3,10] = I[3,11] = 1\n",
    "#I[4, 3] = I[4, 5] = I[4,12] = I[4,13] = 1\n",
    "#I[5, 4] = I[5,6] = I[5,14] = I[5,15] = 1\n",
    "#I[6, 5] = I[6,7] = I[6,16] = I[6,17] = 1\n",
    "#I[7,2] = I[7,6] = I[7,18] = I[7,19] = 1 \n",
    "I[19,7] = I[18,7] = I[17,6] = I[16,6] = 1\n",
    "I[15,5] = I[14,5] = I[13,4] = I[12,4] = 1\n",
    "I[11,3] = I[10,3] = I[9, 2] = I[8,2] = 1 \n",
    "I[19,0] = I[18,1] = I[17,0] = I[16,1] = 1\n",
    "I[15,0] = I[14,1] = I[13,0] = I[12,1] = 1\n",
    "I[11,0] = I[10,1] = I[9,0] = I[8,1] = 1\n",
    "constraint_mat_i, constraint_vec_i, rho_i = setup(I)\n",
    "v_pq = inv(part_pq.T @ constraint_mat_i @ part_pq) @ (part_pq.T @ constraint_vec_i)\n",
    "v_pr = inv(part_pr.T @ constraint_mat_i @ part_pr) @ (part_pr.T @ constraint_vec_i)\n",
    "v_qr = inv(part_qr.T @ constraint_mat_i @ part_qr) @ (part_qr.T @ constraint_vec_i)\n",
    "price_pq_i = np.zeros((20,))\n",
    "price_pr_i = np.zeros((20,))\n",
    "price_qr_i = np.zeros((20,))\n",
    "for i in range(20):\n",
    "    if(i < 2):\n",
    "        price_pq_i[i] = v_pq[0]\n",
    "        price_pr_i[i] = v_pr[0]\n",
    "        price_qr_i[i] = v_qr[0]\n",
    "    elif(i < 8):\n",
    "        price_pq_i[i] = v_pq[0]\n",
    "        price_pr_i[i] = v_pr[1]\n",
    "        price_qr_i[i] = v_qr[1] \n",
    "    else:\n",
    "        price_pq_i[i] = v_pq[1]\n",
    "        price_pr_i[i] = v_pr[0]\n",
    "        price_qr_i[i] = v_qr[1]\n",
    "\n",
    "\n",
    "profit_pq = helperfunctions.util.computeProfit(I, price_pq_i, rho_i, a, c)\n",
    "profit_pr = helperfunctions.util.computeProfit(I, price_pr_i, rho_i, a, c)\n",
    "profit_qr = helperfunctions.util.computeProfit(I, price_qr_i, rho_i, a, c)\n",
    "true_profit = helperfunctions.util.optProfit(I, rho_i, a, c)\n",
    "true_vector_i = helperfunctions.util.price_vector(a, c, rho_i, I)\n",
    "true_vector_i = np.reshape(true_vector_i, (20,))\n",
    "print(\"Profit_pq\", profit_pq)\n",
    "print(\"Profit_pr\", profit_pr)\n",
    "print(\"Profit_qr\", profit_qr)\n",
    "print(\"Compared to the optimal of\", true_profit)"
   ]
  },
  {
   "cell_type": "code",
   "execution_count": 17,
   "metadata": {},
   "outputs": [
    {
     "name": "stdout",
     "output_type": "stream",
     "text": [
      "[49.042566770804186, 157.1712302186006, 215.94864517296023]\n"
     ]
    }
   ],
   "source": [
    "i_vec_diffs = [ sum([ abs(i) for i in true_vector_i - price_pq_i]),\n",
    "                sum([ abs(i) for i in true_vector_i - price_pr_i]),\n",
    "                sum([ abs(i) for i in true_vector_i - price_qr_i])]\n",
    "print(i_vec_diffs)"
   ]
  },
  {
   "cell_type": "markdown",
   "metadata": {},
   "source": [
    "Althought it seems like we have found a solution but caution is needed. It is not the case that the vector closest in distance to the real price vector is best. \n",
    "Consider the following example where we compare the profit generated and distance from the optimal price. "
   ]
  },
  {
   "cell_type": "code",
   "execution_count": 40,
   "metadata": {},
   "outputs": [
    {
     "name": "stdout",
     "output_type": "stream",
     "text": [
      "true price vector\n",
      "[-0.98874332 -0.98874332 -7.87195124 -7.87195124 -7.87195124 -7.87195124\n",
      " -7.87195124 -7.87195124 15.87570347 15.87570347 15.87570347 15.87570347\n",
      " 15.87570347 15.87570347 15.87570347 15.87570347 15.87570347 15.87570347\n",
      " 15.87570347 15.87570347]\n",
      "Price with pq partitioning\n",
      "[-3.76977522 -3.76977522 -3.76977522 -3.76977522 -3.76977522 -3.76977522\n",
      " -3.76977522 -3.76977522 14.30341624 14.30341624 14.30341624 14.30341624\n",
      " 14.30341624 14.30341624 14.30341624 14.30341624 14.30341624 14.30341624\n",
      " 14.30341624 14.30341624]\n",
      "closest vector where all the nodess in P or Q are equal and all the nodes in R are the same\n",
      "[-6.15114926 -6.15114926 -6.15114926 -6.15114926 -6.15114926 -6.15114926\n",
      " -6.15114926 -6.15114926 15.87570347 15.87570347 15.87570347 15.87570347\n",
      " 15.87570347 15.87570347 15.87570347 15.87570347 15.87570347 15.87570347\n",
      " 15.87570347 15.87570347]\n"
     ]
    }
   ],
   "source": [
    "print(\"true price vector\")\n",
    "print(true_vector_i)\n",
    "print(\"Price with pq partitioning\")\n",
    "print(price_pq_i)\n",
    "price_test = np.zeros((20,))\n",
    "avg_1 = sum(true_vector_i[:8])/8\n",
    "avg_2 = sum(true_vector_i[8:])/12\n",
    "price_test[:8] = avg_1\n",
    "price_test[8:] = avg_2\n",
    "print(\"closest vector where all the nodess in P or Q are equal and all the nodes in R are the same\")\n",
    "print(price_test)\n"
   ]
  },
  {
   "cell_type": "code",
   "execution_count": 43,
   "metadata": {},
   "outputs": [
    {
     "name": "stdout",
     "output_type": "stream",
     "text": [
      "price test distance from true price 8.430173603209322\n",
      "optimal pq price distance from true price 12.087200318095782\n"
     ]
    }
   ],
   "source": [
    "helperfunctions.util.computeProfit(I, price_test, rho_i, a, c)\n",
    "print(\"price test distance from true price\", norm(true_vector_i - price_test))\n",
    "print(\"optimal pq price distance from true price\",  norm(true_vector_i - price_pq_i))"
   ]
  },
  {
   "cell_type": "markdown",
   "metadata": {},
   "source": [
    "##  Conclusion\n",
    "Sadly we end this journal somewhat confused about how to progress in terms of how to progress to an answer of what partition is best. It seems like a reasonable guess that the one that induces the smallest dstiance to the true vector is best but we reiterate this is not the same as just picking the vector itself that minimizes the distance."
   ]
  },
  {
   "cell_type": "markdown",
   "metadata": {},
   "source": []
  }
 ],
 "metadata": {
  "interpreter": {
   "hash": "f8bf12b52825272ca753cd984c5229bfdc42f0a289f2d02e86b988d3513b4f71"
  },
  "kernelspec": {
   "display_name": "Python 3.8.10 64-bit ('pDL': conda)",
   "name": "python3"
  },
  "language_info": {
   "codemirror_mode": {
    "name": "ipython",
    "version": 3
   },
   "file_extension": ".py",
   "mimetype": "text/x-python",
   "name": "python",
   "nbconvert_exporter": "python",
   "pygments_lexer": "ipython3",
   "version": "3.8.10"
  },
  "orig_nbformat": 4
 },
 "nbformat": 4,
 "nbformat_minor": 2
}
